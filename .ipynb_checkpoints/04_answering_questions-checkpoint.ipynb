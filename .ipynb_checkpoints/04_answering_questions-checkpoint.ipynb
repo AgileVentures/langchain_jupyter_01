{
 "cells": [
  {
   "cell_type": "markdown",
   "metadata": {},
   "source": [
    "### The event flow\n",
    "\n",
    "- Document Loading: This stage involves collecting documents from various sources like URLs, PDFs, and databases.\n",
    "- Splitting: The loaded documents are split into smaller chunks or sections to facilitate easier processing and retrieval.\n",
    "- Storage: The split documents are stored in a vector store, a specialized database designed to handle vectorized data for efficient retrieval.\n",
    "- Retrieval: When a query (question) is made, relevant splits are retrieved from the vector store.\n",
    "- Output: The retrieved splits are used to form a prompt, which is then processed by the Large Language Model (LLM) to generate the final answer."
   ]
  },
  {
   "cell_type": "code",
   "execution_count": null,
   "metadata": {
    "vscode": {
     "languageId": "javascript"
    }
   },
   "outputs": [],
   "source": []
  }
 ],
 "metadata": {
  "kernelspec": {
   "display_name": "Python 3 (ipykernel)",
   "language": "python",
   "name": "python3"
  },
  "language_info": {
   "codemirror_mode": {
    "name": "ipython",
    "version": 3
   },
   "file_extension": ".py",
   "mimetype": "text/x-python",
   "name": "python",
   "nbconvert_exporter": "python",
   "pygments_lexer": "ipython3",
   "version": "3.11.5"
  }
 },
 "nbformat": 4,
 "nbformat_minor": 4
}
